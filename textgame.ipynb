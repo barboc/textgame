{
 "cells": [
  {
   "cell_type": "code",
   "execution_count": 1,
   "metadata": {},
   "outputs": [],
   "source": [
    "#Imports\n",
    "import ipywidgets as widgets"
   ]
  },
  {
   "cell_type": "code",
   "execution_count": 11,
   "metadata": {},
   "outputs": [
    {
     "data": {
      "application/vnd.jupyter.widget-view+json": {
       "model_id": "93f4b08339ba43c1b4c23636e51e93c4",
       "version_major": 2,
       "version_minor": 0
      },
      "text/plain": [
       "Label(value='Enter Your Nickname')"
      ]
     },
     "metadata": {},
     "output_type": "display_data"
    },
    {
     "data": {
      "application/vnd.jupyter.widget-view+json": {
       "model_id": "304ff6835abd4e5fad4698a07dd1ea03",
       "version_major": 2,
       "version_minor": 0
      },
      "text/plain": [
       "Text(value='')"
      ]
     },
     "metadata": {},
     "output_type": "display_data"
    },
    {
     "data": {
      "application/vnd.jupyter.widget-view+json": {
       "model_id": "4fa4e6bd82194791be3c705b5e148021",
       "version_major": 2,
       "version_minor": 0
      },
      "text/plain": [
       "Button(description='GO!', style=ButtonStyle())"
      ]
     },
     "metadata": {},
     "output_type": "display_data"
    }
   ],
   "source": [
    "#Get the inputs from the player\n",
    "nk_name_label = widgets.Label('Enter Your Nickname')\n",
    "nk_name_text = widgets.Text()\n",
    "\n",
    "tg_btn = widgets.Button(description='GO!')\n",
    "\n",
    "display(nk_name_label)\n",
    "display(nk_name_text)\n",
    "display(tg_btn)\n",
    "\n",
    "def show_text(btn):\n",
    "    print(nk_name_text.value.upper())\n",
    "\n",
    "tg_btn.on_click(show_text)"
   ]
  }
 ],
 "metadata": {
  "kernelspec": {
   "display_name": "Python 3",
   "language": "python",
   "name": "python3"
  },
  "language_info": {
   "codemirror_mode": {
    "name": "ipython",
    "version": 3
   },
   "file_extension": ".py",
   "mimetype": "text/x-python",
   "name": "python",
   "nbconvert_exporter": "python",
   "pygments_lexer": "ipython3",
   "version": "3.7.4"
  }
 },
 "nbformat": 4,
 "nbformat_minor": 2
}
